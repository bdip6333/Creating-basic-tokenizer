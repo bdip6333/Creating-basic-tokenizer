{
 "cells": [
  {
   "cell_type": "code",
   "execution_count": 1,
   "metadata": {},
   "outputs": [
    {
     "name": "stdout",
     "output_type": "stream",
     "text": [
      "Tokens: ['', '', 's', '', '', '']\n",
      "Confusion Matrix:\n",
      " [[2 0]\n",
      " [1 2]]\n",
      "Precision: 0.8666666666666666\n",
      "Recall: 0.8\n"
     ]
    }
   ],
   "source": [
    "import re\n",
    "from sklearn.metrics import confusion_matrix, precision_score, recall_score\n",
    "\n",
    "def tokenize(text, language='en'):\n",
    "    if language == 'en':\n",
    "        tokens = re.findall(r\"\\b\\w+\\'?(\\w+)?\\b\", text)\n",
    "    else:\n",
    "        tokens = text.split()\n",
    "    return tokens\n",
    "\n",
    "def evaluate_model(true_labels, predicted_labels):\n",
    "    cm = confusion_matrix(true_labels, predicted_labels)\n",
    "    precision = precision_score(true_labels, predicted_labels, average='weighted')\n",
    "    recall = recall_score(true_labels, predicted_labels, average='weighted')\n",
    "    return {\"confusion_matrix\": cm,\"precision\": precision,\"recall\": recall}\n",
    "\n",
    "if __name__ == \"__main__\":\n",
    "    sample_text = \"Hello, world! It's a beautiful day.\"\n",
    "    tokens = tokenize(sample_text)\n",
    "    print(\"Tokens:\", tokens)\n",
    "\n",
    "    true_labels = [1, 0, 1, 1, 0]\n",
    "    predicted_labels = [1, 0, 0, 1, 0]\n",
    "\n",
    "    metrics = evaluate_model(true_labels, predicted_labels)\n",
    "    print(\"Confusion Matrix:\\n\", metrics[\"confusion_matrix\"])\n",
    "    print(\"Precision:\", metrics[\"precision\"])\n",
    "    print(\"Recall:\", metrics[\"recall\"])"
   ]
  }
 ],
 "metadata": {
  "kernelspec": {
   "display_name": "Python 3",
   "language": "python",
   "name": "python3"
  },
  "language_info": {
   "codemirror_mode": {
    "name": "ipython",
    "version": 3
   },
   "file_extension": ".py",
   "mimetype": "text/x-python",
   "name": "python",
   "nbconvert_exporter": "python",
   "pygments_lexer": "ipython3",
   "version": "3.12.4"
  }
 },
 "nbformat": 4,
 "nbformat_minor": 2
}
